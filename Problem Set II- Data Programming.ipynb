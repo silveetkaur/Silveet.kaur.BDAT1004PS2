{
 "cells": [
  {
   "cell_type": "markdown",
   "id": "e30e4d2f",
   "metadata": {},
   "source": [
    "# DATA PROGRAMMING  "
   ]
  },
  {
   "cell_type": "markdown",
   "id": "514871ae",
   "metadata": {},
   "source": [
    "## PROBLEM SET 2"
   ]
  },
  {
   "cell_type": "markdown",
   "id": "d0520820",
   "metadata": {},
   "source": [
    "### Question 1"
   ]
  },
  {
   "cell_type": "markdown",
   "id": "c355901e",
   "metadata": {},
   "source": [
    "Consider the following Python module:\n",
    "    \n",
    "a = 0\n",
    "\n",
    "def b():\n",
    "    \n",
    "global a\n",
    "\n",
    "a = c(a)\n",
    "\n",
    "def c(a):\n",
    "    \n",
    "return a + 2\n",
    "\n",
    "After importing the module into the interpreter, you execute:\n",
    ">>> b()\n",
    ">>> b()\n",
    ">>> b()\n",
    ">>> a\n",
    "? \n",
    "\n",
    "What value is displayed when the last expression (a) is evaluated? Explain your answer by indicating what happens in every executed statement."
   ]
  },
  {
   "cell_type": "markdown",
   "id": "c404db8d",
   "metadata": {},
   "source": [
    "### Answer:"
   ]
  },
  {
   "cell_type": "code",
   "execution_count": 1,
   "id": "bb57c0cb",
   "metadata": {},
   "outputs": [
    {
     "name": "stdout",
     "output_type": "stream",
     "text": [
      "6\n"
     ]
    }
   ],
   "source": [
    "a = 0\n",
    "# DEfining a function 'b'.\n",
    "def b():\n",
    "    global a\n",
    "    a = c(a)\n",
    "\n",
    "def c(a):\n",
    "    return a + 2\n",
    "# Calling the function 'b' thrice.\n",
    "b()\n",
    "b()\n",
    "b()\n",
    "\n",
    "# Printing the final value.\n",
    "print(a)\n"
   ]
  },
  {
   "cell_type": "markdown",
   "id": "88797ad4",
   "metadata": {},
   "source": [
    "### Explanation"
   ]
  },
  {
   "cell_type": "markdown",
   "id": "53e1819d",
   "metadata": {},
   "source": [
    "**a = 0**: Sets the value of variable a to zero. <br>\n",
    "**def b()**:: This function defines a function b without any parameters.<br>\n",
    "**global a**: Tells the function b to use the global variable a rather than a new local variable.<br>\n",
    "\n",
    "**a = c(a)**: Invokes the function c with the current value of an as an argument and returns the result to a.<br>\n",
    "\n",
    "**def c(a)**:Defines a function c that accepts an argument a.<br>\n",
    "\n",
    "**return a + 2**: Returns the value of a multiplied by two.<br>\n",
    "\n",
    "**b()**: Invokes function b, which in turn invokes function c and increases the value of a by 2. This occurs three times in a row as a result of three consecutive calls to b.\n",
    "\n",
    "**print(a)**: Displays the final value of a.<br>"
   ]
  },
  {
   "cell_type": "markdown",
   "id": "0e6fba85",
   "metadata": {},
   "source": [
    "---\n",
    "* * *"
   ]
  },
  {
   "cell_type": "markdown",
   "id": "0e16ef8f",
   "metadata": {},
   "source": [
    "### Question 2"
   ]
  },
  {
   "cell_type": "markdown",
   "id": "2f1c1cce",
   "metadata": {},
   "source": [
    "Function fileLength(), given to you, takes the name of a file as input and returns the length of the file: <br>\n",
    ">>> fileLength('midterm.py') <br>\n",
    "284<br>\n",
    ">>> fileLength('idterm.py')<br><br>\n",
    "Traceback (most recent call last): <br>\n",
    "File \"<pyshell#34>\", line 1, in <module> <br>\n",
    "    fileLength('idterm.py') <br>\n",
    "File \"/Users/me/midterm.py\", line 3, in fileLength <br>\n",
    "    infile = open(filename)<br>\n",
    "FileNotFoundError: [Errno 2] No such file or directory: <br>\n",
    "    'idterm.py'<br>\n",
    "                \n",
    "As shown above, if the file cannot be found by the interpreter or if it cannot be read as a text file, an exception will be raised. Modify function fileLength() so that a friendly message is printed instead:<br>\n",
    ">>> fileLength('midterm.py') <br>\n",
    "358 <br>\n",
    ">>> fileLength('idterm.py') <br>\n",
    "File idterm.py not found.<br>"
   ]
  },
  {
   "cell_type": "markdown",
   "id": "431675f4",
   "metadata": {},
   "source": [
    "### Answer:"
   ]
  },
  {
   "cell_type": "code",
   "execution_count": 2,
   "id": "37b34236",
   "metadata": {},
   "outputs": [
    {
     "name": "stdout",
     "output_type": "stream",
     "text": [
      "358\n",
      "File idterm.py not found.\n"
     ]
    }
   ],
   "source": [
    "# Importing the 'os' module.\n",
    "import os\n",
    "\n",
    "# Defining a function filelength with filename as a parameter. This function is created to find the length of the given files.\n",
    "def fileLength(filename):\n",
    "    \n",
    "# Creating a full path to the files\n",
    "    full_path = os.path.join('Downloads', filename)\n",
    "    \n",
    "# Used try catch any exceptions.\n",
    "    try:\n",
    "        \n",
    "# Opens the file from full path in read mode.\n",
    "        with open(full_path, 'r') as file:\n",
    "    \n",
    "# Reads the content of the file.\n",
    "            content = file.read()\n",
    "            print(len(content))\n",
    "\n",
    "# handles any other potential errors.\n",
    "    except FileNotFoundError:\n",
    "        print(f\"File {filename} not found.\")\n",
    "    except Exception as e:\n",
    "        print(f\"An error occurred: {e}\")\n",
    "\n",
    "# Calling fileLength twice to get the output.\n",
    "fileLength('midterm.py')\n",
    "fileLength('idterm.py')\n"
   ]
  },
  {
   "cell_type": "markdown",
   "id": "c5cfb86b",
   "metadata": {
    "slideshow": {
     "slide_type": "notes"
    }
   },
   "source": [
    "---\n",
    "* * *"
   ]
  },
  {
   "cell_type": "markdown",
   "id": "4d16eadc",
   "metadata": {},
   "source": [
    "### Question 3"
   ]
  },
  {
   "cell_type": "markdown",
   "id": "10796f7e",
   "metadata": {},
   "source": [
    "Write a class named Marsupial that can be used as shown below:<br>\n",
    ">>> m = Marsupial() \n",
    ">>> m.put_in_pouch('doll') \n",
    ">>> m.put_in_pouch('firetruck') \n",
    ">>> m.put_in_pouch('kitten') \n",
    ">>> m.pouch_contents() ['doll', 'firetruck', 'kitten']\n",
    "    \n",
    "Now write a class named Kangaroo as a subclass of Marsupial that inherits all the attributes of Marsupial and also:<br>\n",
    "a. extends the Marsupial __init__ constructor to take, as input, the coordinates x and y of the Kangaroo object,<br>\n",
    "b. supports method jump that takes number values dx and dy as input and moves the kangaroo by dx units along the x-axis and by dy units along the y-axis, and<br>\n",
    "c. overloads the __str__ operator so it behaves as shown below.\n",
    ">>> k = Kangaroo(0,0) \n",
    ">>> print(k) I am a Kangaroo located at coordinates (0,0)\n",
    ">>> k.put_in_pouch('doll') \n",
    ">>> k.put_in_pouch('firetruck') \n",
    ">>> k.put_in_pouch('kitten') \n",
    ">>> k.pouch_contents() ['doll', 'firetruck', 'kitten'] \n",
    ">>> k.jump(1,0) \n",
    ">>> k.jump(1,0)\n",
    ">>> k.jump(1,0)\n",
    ">>> print(k) I am a Kangaroo located at coordinates (3,0)"
   ]
  },
  {
   "cell_type": "markdown",
   "id": "66b55936",
   "metadata": {},
   "source": [
    "### Answer"
   ]
  },
  {
   "cell_type": "code",
   "execution_count": 3,
   "id": "fe1921e8",
   "metadata": {
    "scrolled": true
   },
   "outputs": [
    {
     "name": "stdout",
     "output_type": "stream",
     "text": [
      "Marsupial pouch contents: ['doll', 'firetruck', 'kitten']\n",
      "Initial Kangaroo details: I am a Kangaroo located at coordinates (1,0)\n",
      "Kangaroo's pouch contents: ['doll', 'firetruck', 'kitten']\n",
      "Updated Kangaroo details: I am a Kangaroo located at coordinates (3,0)\n"
     ]
    }
   ],
   "source": [
    "# Defining 2 classes.\n",
    "# Class 1.\n",
    "class Marsupial:\n",
    "    # Initializing an empty list pouch.\n",
    "    def __init__(self):\n",
    "        self.pouch = []\n",
    "\n",
    "    # Adding an item to the pouch.\n",
    "    def put_in_pouch(self, item):\n",
    "        self.pouch.append(item)\n",
    "\n",
    "    # Returning the contents of the pouch.\n",
    "    def pouch_contents(self):\n",
    "        return self.pouch\n",
    "\n",
    "\n",
    "# Class 2.\n",
    "class Kangaroo(Marsupial):\n",
    "    # Defining the starting values for the x and y coordinates.\n",
    "    def __init__(self, x, y):\n",
    "        super().__init__()\n",
    "        self.x = x + 1  # Set the initial x-coordinate as 1\n",
    "        self.y = y\n",
    "\n",
    "    # Modifying the x and y coordinates based on the given dx and dy values.\n",
    "    def jump(self, dx, dy):\n",
    "        self.x += dx\n",
    "        self.y += dy\n",
    "\n",
    "    # Creating a text representation of the Kangaroo's position.\n",
    "    def __str__(self):\n",
    "        return f\"I am a Kangaroo located at coordinates ({self.x},{self.y})\"\n",
    "\n",
    "\n",
    "# Creating a Marsupial object m and adding items to its pouch, and printing the contents of the pouch.\n",
    "m = Marsupial()\n",
    "m.put_in_pouch('doll')\n",
    "m.put_in_pouch('firetruck')\n",
    "m.put_in_pouch('kitten')\n",
    "print(\"Marsupial pouch contents:\", m.pouch_contents())\n",
    "\n",
    "# Creating a Kangaroo object k at coordinates (0, 0) then adding items to the pouch of the coordinates, and printing the contents of the pouch.\n",
    "k = Kangaroo(0, 0)\n",
    "print(\"Initial Kangaroo details:\", k)\n",
    "k.put_in_pouch('doll')\n",
    "k.put_in_pouch('firetruck')\n",
    "k.put_in_pouch('kitten')\n",
    "print(\"Kangaroo's pouch contents:\", k.pouch_contents())\n",
    "# Changing the Kangaroo's position by using the jump method and printing its new position.\n",
    "k.jump(1, 0)\n",
    "k.jump(1, 0)\n",
    "k.jump(0, 0)\n",
    "print(\"Updated Kangaroo details:\", k)\n"
   ]
  },
  {
   "cell_type": "markdown",
   "id": "0d74236b",
   "metadata": {
    "slideshow": {
     "slide_type": "notes"
    }
   },
   "source": [
    "---\n",
    "* * *"
   ]
  },
  {
   "cell_type": "markdown",
   "id": "018eb8d8",
   "metadata": {},
   "source": [
    "### Question 4"
   ]
  },
  {
   "cell_type": "markdown",
   "id": "3c354f64",
   "metadata": {},
   "source": [
    "Write function collatz() that takes a positive integer x as input and prints the Collatz sequence starting at x. A Collatz sequence is obtained by repeatedly applying this rule to the previous number x in the sequence:<br>\n",
    "$x = { 𝑥/2      𝑖𝑓 𝑥 𝑖𝑠 𝑒𝑣𝑒𝑛\n",
    "       3𝑥+1    𝑖𝑓 𝑥 𝑖𝑠 𝑜𝑑𝑑$ <br>\n",
    "       \n",
    "Your function should stop when the sequence gets to number 1. Your implementation must be recursive, without any loops.\n",
    "     >>> collatz(1)\n",
    "1\n",
    ">>> collatz(10)\n",
    "10\n",
    "5\n",
    "16\n",
    "8\n",
    "4\n",
    "2\n",
    "1"
   ]
  },
  {
   "cell_type": "markdown",
   "id": "154d63f3",
   "metadata": {},
   "source": [
    "### Answer"
   ]
  },
  {
   "cell_type": "code",
   "execution_count": 4,
   "id": "8403cadc",
   "metadata": {},
   "outputs": [
    {
     "name": "stdout",
     "output_type": "stream",
     "text": [
      "10\n",
      "5\n",
      "16\n",
      "8\n",
      "4\n",
      "2\n",
      "1\n"
     ]
    }
   ],
   "source": [
    "# Calculating the Collatz sequence for a given input x.\n",
    "def collatz(x):\n",
    "\n",
    "# Printing the current x value.\n",
    "    print(x)\n",
    "\n",
    "# Checking if the value of x currently is 1, which is the base case.\n",
    "    if x == 1: \n",
    "        return\n",
    "\n",
    "# Checking if the current value of x is even then dividing the value of  x by 2 and making a recursive call to collatz for the modified value.\n",
    "    elif x % 2 == 0:\n",
    "        collatz(x // 2) \n",
    "\n",
    "# If the value of x turns out to be odd then we perform the following operation and make a recursive call to collatz for the modified value.\n",
    "    else:\n",
    "        collatz(3 * x + 1)  \n",
    "\n",
    "\n",
    "# Checking the function with specific input values which is given as 10.\n",
    "collatz(10)\n"
   ]
  },
  {
   "cell_type": "markdown",
   "id": "0b949f15",
   "metadata": {
    "slideshow": {
     "slide_type": "notes"
    }
   },
   "source": [
    "---\n",
    "* * *"
   ]
  },
  {
   "cell_type": "markdown",
   "id": "6376755e",
   "metadata": {},
   "source": [
    "### Question 5"
   ]
  },
  {
   "cell_type": "markdown",
   "id": "fd96f7ee",
   "metadata": {},
   "source": [
    "Write a recursive method binary() that takes a non-negative integer n and prints the binary representation of integer n. \n",
    ">>> binary(0) 0 \n",
    ">>> binary(1) 1 \n",
    ">>> binary(3) 11 \n",
    ">>> binary(9) 1001"
   ]
  },
  {
   "cell_type": "markdown",
   "id": "82fbf341",
   "metadata": {},
   "source": [
    "### Answer"
   ]
  },
  {
   "cell_type": "code",
   "execution_count": 5,
   "id": "5f4c81da",
   "metadata": {},
   "outputs": [
    {
     "name": "stdout",
     "output_type": "stream",
     "text": [
      "0\n",
      "1\n",
      "11\n",
      "1001\n"
     ]
    }
   ],
   "source": [
    "#  Defining a function to convert a decimal number to binary.\n",
    "def binary(n):\n",
    "\n",
    "# If the number is larger than one, divide it by two and call the method again.\n",
    "    if n > 1:\n",
    "        binary(n // 2)\n",
    "\n",
    "# Print the remainder of the number divided by 2, which is basically the binary numbers.\n",
    "    print(n % 2, end='')\n",
    "\n",
    "# Test cases to show the binary conversion.\n",
    "# Test case 1: Converting the decimal number 0 to binary.\n",
    "binary(0)\n",
    "\n",
    "# New line\n",
    "print()  \n",
    "\n",
    "# Test case 2: Converting the decimal number 1 to binary.\n",
    "binary(1)\n",
    "\n",
    "# New line\n",
    "print()  \n",
    "\n",
    "# Test case 3: Converting the decimal number 3 to binary.\n",
    "binary(3)\n",
    "# New line\n",
    "print()  \n",
    "\n",
    "# Test case 4: Converting the decimal number 9 to binary.\n",
    "binary(9)\n",
    " # New line\n",
    "print() \n"
   ]
  },
  {
   "cell_type": "markdown",
   "id": "9aac2b72",
   "metadata": {
    "slideshow": {
     "slide_type": "notes"
    }
   },
   "source": [
    "---\n",
    "* * *"
   ]
  },
  {
   "cell_type": "markdown",
   "id": "608c7c19",
   "metadata": {},
   "source": [
    "### Question 6"
   ]
  },
  {
   "cell_type": "markdown",
   "id": "7391636d",
   "metadata": {},
   "source": [
    "Implement a class named HeadingParser that can be used to parse an HTML document, and retrieve and print all the headings in the document. You should implement your class as a subclass of HTMLParser, defined in Standard Library module html.parser. When fed a string containing HTML code, your class should print the headings, one per line and in the order in which they appear in the document. Each heading should be indented as follows: an h1 heading should have indentation 0, and h2 heading should have indentation 1, etc. Test your implementation using w3c.html.\n",
    ">>> infile = open('w3c.html')\n",
    ">>> content = infile.read()\n",
    ">>> infile.close()\n",
    ">>> hp = HeadingParser()\n",
    ">>> hp.feed(content)\n",
    "W3C Mission\n",
    "Principles"
   ]
  },
  {
   "cell_type": "markdown",
   "id": "9d0de6d2",
   "metadata": {},
   "source": [
    "### Answer:"
   ]
  },
  {
   "cell_type": "code",
   "execution_count": 6,
   "id": "4a57eedf",
   "metadata": {},
   "outputs": [
    {
     "name": "stdout",
     "output_type": "stream",
     "text": [
      "W3C Mission\n",
      "  Principles\n"
     ]
    }
   ],
   "source": [
    "from html.parser import HTMLParser\n",
    "import os\n",
    "\n",
    "# Defining a custom HTML parser called HeadingParser that originates from HTMLParser.\n",
    "class HeadingParser(HTMLParser):\n",
    "    def __init__(self):\n",
    "        super().__init__()\n",
    "        self.indent = 0\n",
    "        self.in_heading = False\n",
    "\n",
    "# Defining what happens when a start tag is detected.\n",
    "    def handle_starttag(self, tag, attrs):\n",
    "        if tag.startswith('h') and len(tag) == 2 and tag[1].isdigit():\n",
    "            self.in_heading = True\n",
    "            self.indent = int(tag[1]) - 1\n",
    "            \n",
    "# Defining what happens when data is detected.\n",
    "    def handle_data(self, data):\n",
    "        if self.in_heading:\n",
    "            \n",
    "# Printing the data with the suitable indentation.\n",
    "            print(\"  \" * self.indent + data)\n",
    "\n",
    "# Defining what happens when end tag is detected.\n",
    "    def handle_endtag(self, tag):\n",
    "        if self.in_heading and tag.startswith('h') and len(tag) == 2 and tag[1].isdigit():\n",
    "            self.in_heading = False\n",
    "\n",
    "# Geting  the full path to the w3c.html file which is located in the Downloads directory.\n",
    "downloads_path = os.path.join(os.path.expanduser(\"~\"), \"Downloads\")\n",
    "file_path = os.path.join(downloads_path, \"w3c.html\")\n",
    "\n",
    "# Testing the implementation of the functions by opening and reading the w3c.html file.\n",
    "with open(file_path, 'r') as file:\n",
    "    content = file.read()\n",
    "    \n",
    "# Creating an instance of the HeadingParser class.\n",
    "    hp = HeadingParser()\n",
    "    \n",
    "# Providing the content for processing to the HeadingParser instance.\n",
    "    hp.feed(content)\n"
   ]
  },
  {
   "cell_type": "markdown",
   "id": "e888b5ed",
   "metadata": {
    "slideshow": {
     "slide_type": "notes"
    }
   },
   "source": [
    "---\n",
    "* * *"
   ]
  },
  {
   "cell_type": "markdown",
   "id": "78252a7c",
   "metadata": {},
   "source": [
    "### Question 7"
   ]
  },
  {
   "cell_type": "markdown",
   "id": "00b01042",
   "metadata": {},
   "source": [
    "Implement recursive function webdir() that takes as input: a URL (as a string) and non-negative integers depth and indent. Your function should visit every web page reachable from the starting URL web page in depth clicks or less, and print each web page's URL. As shown below, indentation, specified by indent, should be used to indicate the depth of a URL. \n",
    ">>> webdir('http://reed.cs.depaul.edu/lperkovic/csc242/test1.html', 2, 0) http://reed.cs.depaul.edu/lperkovic/csc242/test1.html http://reed.cs.depaul.edu/lperkovic/csc242/test2.html http://reed.cs.depaul.edu/lperkovic/csc242/test4.html http://reed.cs.depaul.edu/lperkovic/csc242/test3.html http://reed.cs.depaul.edu/lperkovic/csc242/test4.html"
   ]
  },
  {
   "cell_type": "markdown",
   "id": "c155e463",
   "metadata": {},
   "source": [
    "### Answer"
   ]
  },
  {
   "cell_type": "code",
   "execution_count": 7,
   "id": "a2ec53fc",
   "metadata": {},
   "outputs": [
    {
     "name": "stdout",
     "output_type": "stream",
     "text": [
      "Request Error: 404 Client Error:  for url: http://reed.cs.depaul.edu/lperkovic/csc242/test1.html\n"
     ]
    }
   ],
   "source": [
    "import requests\n",
    "from bs4 import BeautifulSoup\n",
    "\n",
    "# Defining a function called webdir to navigate through web pages using the depth, indentation, and URL provided.\n",
    "def webdir(url, depth, indent):\n",
    "    \n",
    "# If the depth is less than 0, then the function returns.\n",
    "    if depth < 0:\n",
    "        return\n",
    "    try:\n",
    "        \n",
    "# Sending a GET request to the specified URL.\n",
    "        response = requests.get(url)\n",
    "    \n",
    "# Raising an exception for HTTP errors if the response turns out to be not successful.\n",
    "        response.raise_for_status()\n",
    "    \n",
    "# Parsing the response content using BeautifulSoup\n",
    "        soup = BeautifulSoup(response.content, 'html.parser')\n",
    "    \n",
    "# Printing the URL with the specified indentation.\n",
    "        print(\" \" * indent + url)\n",
    "\n",
    "# If the depth is greater than 0, then navigate the linked pages.\n",
    "        if depth > 0:\n",
    "        \n",
    "# Finding all anchor tags with the href attribute in the parsed content.\n",
    "            for link in soup.find_all('a', href=True):\n",
    "        \n",
    "# Extracting the new URL from the anchor tag.\n",
    "                new_url = link['href']\n",
    "    \n",
    "# Handling the URLs by joining them with the base URL.\n",
    "                if not new_url.startswith('http'):\n",
    "                    new_url = '/'.join(url.split('/')[:-1]) + '/' + new_url\n",
    "            \n",
    "# Repeatedly calling the webdir function with updated parameters.\n",
    "                webdir(new_url, depth - 1, indent + 4)\n",
    "\n",
    "# Catching and handling any request exceptions.\n",
    "    except requests.exceptions.RequestException as e:\n",
    "        print(f\"Request Error: {e}\")\n",
    "        \n",
    "# Catching and handling any other general exceptions.\n",
    "    except Exception as e:\n",
    "        print(f\"An error occurred: {e}\")\n",
    "\n",
    "# Testing the implementation of the webdir function.\n",
    "webdir('http://reed.cs.depaul.edu/lperkovic/csc242/test1.html', 2, 0)\n"
   ]
  },
  {
   "cell_type": "markdown",
   "id": "038d8a77",
   "metadata": {
    "slideshow": {
     "slide_type": "notes"
    }
   },
   "source": [
    "---\n",
    "* * *"
   ]
  },
  {
   "cell_type": "markdown",
   "id": "1b240f54",
   "metadata": {},
   "source": [
    "### Question 8"
   ]
  },
  {
   "cell_type": "markdown",
   "id": "d4eac0b2",
   "metadata": {},
   "source": [
    "Write SQL queries on the below database table that return:<br>\n",
    "a) All the temperature data.<br>\n",
    "b) All the cities, but without repetition.<br>\n",
    "c) All the records for India.<br>\n",
    "d) All the Fall records.<br>\n",
    "e) The city, country, and season for which the average rainfall is between 200 and 400 millimeters.<br>\n",
    "f) The city and country for which the average Fall temperature is above 20 degrees, in increasing temperature order.<br>\n",
    "g) The total annual rainfall for Cairo.<br>\n",
    "h) The total rainfall for each season.<br>\n",
    "\n",
    "|City |Country|Season|Temperature (C)|Rainfall (mm)|\n",
    "|:-----|:----:|----:|----:|----:|\n",
    "| Mmumbai | India          | Winter   |              24.8 |             5.9 |\n",
    "| Mumbai | India          | Spring   |              28.4 |            16.2 |\n",
    "| Mumbai | India          | Summer   |              27.9 |          1549.4 |\n",
    "| Mumbai | India          | Fall     |              27.6 |           346   |\n",
    "| London | United Kingdom | Winter   |               4.2 |           207.7 |\n",
    "| London | United Kingdom | Spring   |               8.3 |           169.6 |\n",
    "| London | United Kingdom | Summer   |              15.7 |           157   |\n",
    "| London | United Kingdom | Fall     |              10.4 |           218.5 |\n",
    "| Cairo  | Egypt          | Winter   |              13.6 |            16.5 |\n",
    "| Cairo  | Egypt          | Spring   |              20.7 |             6.5 |\n",
    "| Cairo  | Egypt          | Summer   |              27.7 |             0.1 |\n",
    "| Cairo  | Egypt          | Fall     |              22.2 |             4.5 |\n"
   ]
  },
  {
   "cell_type": "markdown",
   "id": "79534fcd",
   "metadata": {},
   "source": [
    "### Answer"
   ]
  },
  {
   "cell_type": "code",
   "execution_count": 8,
   "id": "065a6214",
   "metadata": {},
   "outputs": [
    {
     "name": "stdout",
     "output_type": "stream",
     "text": [
      "Query a: SELECT * FROM weather;\n",
      "Results:\n",
      "('Mumbai', 'India', 'Winter', 24.8, 5.9)\n",
      "('Mumbai', 'India', 'Spring', 28.4, 16.2)\n",
      "('Mumbai', 'India', 'Summer', 27.9, 1549.4)\n",
      "('Mumbai', 'India', 'Fall', 27.6, 346.0)\n",
      "('London', 'United Kingdom', 'Winter', 4.2, 207.7)\n",
      "('London', 'United Kingdom', 'Spring', 8.3, 169.6)\n",
      "('London', 'United Kingdom', 'Summer', 15.7, 157.0)\n",
      "('London', 'United Kingdom', 'Fall', 10.4, 218.5)\n",
      "('Cairo', 'Egypt', 'Winter', 13.6, 16.5)\n",
      "('Cairo', 'Egypt', 'Spring', 20.7, 6.5)\n",
      "('Cairo', 'Egypt', 'Summer', 27.7, 0.1)\n",
      "('Cairo', 'Egypt', 'Fall', 22.2, 4.5)\n",
      "\n",
      "\n",
      "Query b: SELECT DISTINCT City FROM weather;\n",
      "Results:\n",
      "('Mumbai',)\n",
      "('London',)\n",
      "('Cairo',)\n",
      "\n",
      "\n",
      "Query c: SELECT * FROM weather WHERE Country='India';\n",
      "Results:\n",
      "('Mumbai', 'India', 'Winter', 24.8, 5.9)\n",
      "('Mumbai', 'India', 'Spring', 28.4, 16.2)\n",
      "('Mumbai', 'India', 'Summer', 27.9, 1549.4)\n",
      "('Mumbai', 'India', 'Fall', 27.6, 346.0)\n",
      "\n",
      "\n",
      "Query d: SELECT * FROM weather WHERE Season='Fall';\n",
      "Results:\n",
      "('Mumbai', 'India', 'Fall', 27.6, 346.0)\n",
      "('London', 'United Kingdom', 'Fall', 10.4, 218.5)\n",
      "('Cairo', 'Egypt', 'Fall', 22.2, 4.5)\n",
      "\n",
      "\n",
      "Query e: SELECT City, Country, Season FROM weather WHERE Rainfall BETWEEN 200 AND 400;\n",
      "Results:\n",
      "('Mumbai', 'India', 'Fall')\n",
      "('London', 'United Kingdom', 'Winter')\n",
      "('London', 'United Kingdom', 'Fall')\n",
      "\n",
      "\n",
      "Query f: SELECT City, Country FROM weather WHERE Season='Fall' AND Temperature > 20 ORDER BY Temperature;\n",
      "Results:\n",
      "('Cairo', 'Egypt')\n",
      "('Mumbai', 'India')\n",
      "\n",
      "\n",
      "Query g: SELECT SUM(Rainfall) FROM weather WHERE City='Cairo';\n",
      "Results:\n",
      "(27.6,)\n",
      "\n",
      "\n",
      "Query h: SELECT Season, SUM(Rainfall) FROM weather GROUP BY Season;\n",
      "Results:\n",
      "('Fall', 569.0)\n",
      "('Spring', 192.29999999999998)\n",
      "('Summer', 1706.5)\n",
      "('Winter', 230.1)\n",
      "\n",
      "\n"
     ]
    }
   ],
   "source": [
    "# A built-in module used to work with database in python.\n",
    "import sqlite3\n",
    "\n",
    "# Creating a database and a table.\n",
    "conn = sqlite3.connect(':memory:')\n",
    "cur = conn.cursor()\n",
    "\n",
    "cur.execute('''CREATE TABLE weather\n",
    "               (City text, Country text, Season text, Temperature real, Rainfall real)''')\n",
    "\n",
    "# Inserting data into the table.\n",
    "data = [\n",
    "    ('Mumbai', 'India', 'Winter', 24.8, 5.9),\n",
    "    ('Mumbai', 'India', 'Spring', 28.4, 16.2),\n",
    "    ('Mumbai', 'India', 'Summer', 27.9, 1549.4),\n",
    "    ('Mumbai', 'India', 'Fall', 27.6, 346.0),\n",
    "    ('London', 'United Kingdom', 'Winter', 4.2, 207.7),\n",
    "    ('London', 'United Kingdom', 'Spring', 8.3, 169.6),\n",
    "    ('London', 'United Kingdom', 'Summer', 15.7, 157.0),\n",
    "    ('London', 'United Kingdom', 'Fall', 10.4, 218.5),\n",
    "    ('Cairo', 'Egypt', 'Winter', 13.6, 16.5),\n",
    "    ('Cairo', 'Egypt', 'Spring', 20.7, 6.5),\n",
    "    ('Cairo', 'Egypt', 'Summer', 27.7, 0.1),\n",
    "    ('Cairo', 'Egypt', 'Fall', 22.2, 4.5)\n",
    "]\n",
    "\n",
    "cur.executemany('INSERT INTO weather VALUES (?,?,?,?,?)', data)\n",
    "\n",
    "# Commiting the changes from above.\n",
    "conn.commit()\n",
    "\n",
    "# Executing the SQL queries.\n",
    "queries = {\n",
    "    \"a\": \"SELECT * FROM weather;\",\n",
    "    \"b\": \"SELECT DISTINCT City FROM weather;\",\n",
    "    \"c\": \"SELECT * FROM weather WHERE Country='India';\",\n",
    "    \"d\": \"SELECT * FROM weather WHERE Season='Fall';\",\n",
    "    \"e\": \"SELECT City, Country, Season FROM weather WHERE Rainfall BETWEEN 200 AND 400;\",\n",
    "    \"f\": \"SELECT City, Country FROM weather WHERE Season='Fall' AND Temperature > 20 ORDER BY Temperature;\",\n",
    "    \"g\": \"SELECT SUM(Rainfall) FROM weather WHERE City='Cairo';\",\n",
    "    \"h\": \"SELECT Season, SUM(Rainfall) FROM weather GROUP BY Season;\"\n",
    "}\n",
    "\n",
    "for key, query in queries.items():\n",
    "    print(f\"Query {key}: {query}\")\n",
    "    result = cur.execute(query)\n",
    "    print(\"Results:\")\n",
    "    for row in result.fetchall():\n",
    "        print(row)\n",
    "    print(\"\\n\")\n",
    "\n",
    "# Closing the connection.\n",
    "conn.close()\n"
   ]
  },
  {
   "cell_type": "markdown",
   "id": "7eed8e46",
   "metadata": {
    "slideshow": {
     "slide_type": "notes"
    }
   },
   "source": [
    "---\n",
    "* * *"
   ]
  },
  {
   "cell_type": "markdown",
   "id": "ec7e3d6f",
   "metadata": {},
   "source": [
    "### Question 9"
   ]
  },
  {
   "cell_type": "markdown",
   "id": "1a4e955b",
   "metadata": {},
   "source": [
    "Suppose list words is defined as follows:\n",
    ">>> words = ['The', 'quick', 'brown', 'fox', 'jumps', 'over', 'the', 'lazy', 'dog'] <br>\n",
    "\n",
    "Write list comprehension expressions that use list words and generate the following lists:<br>\n",
    "\n",
    "a) ['THE', 'QUICK', 'BROWN', 'FOX', 'JUMPS', 'OVER', 'THE', 'LAZY', 'DOG']<br>\n",
    "b) ['the', 'quick', 'brown', 'fox', 'jumps', 'over', 'the', 'lazy', 'dog']<br>\n",
    "c) [3, 5, 5, 3, 5, 4, 3, 4, 3] (the list of lengths of words in list words).<br>\n",
    "d) [['THE', 'the', 3], ['QUICK', 'quick', 5], ['BROWN', 'brown', 5], ['FOX', 'fox', 3], ['JUMPS', 'jumps', 5], ['OVER', 'over', 4], ['THE', 'the', 3], ['LAZY', 'lazy', 4], ['DOG', 'dog', 3]] (the list containing a list for every word of list words, where each list contains the word in uppercase and lowercase and the length of the word.)<br>\n",
    "e) ['The', 'quick', 'brown', 'fox', 'jumps', 'over', 'the', 'lazy', 'dog'] (the list of words in list words containing 4 or more characters.)<br>"
   ]
  },
  {
   "cell_type": "code",
   "execution_count": 9,
   "id": "80a88abf",
   "metadata": {},
   "outputs": [
    {
     "name": "stdout",
     "output_type": "stream",
     "text": [
      "Conversion into Uppercase :\n",
      "['THE', 'QUICK', 'BROWN', 'FOX', 'JUMPS', 'OVER', 'THE', 'LAZY', 'DOG']\n",
      "\n",
      "Conversion into Lowercase:\n",
      "['the', 'quick', 'brown', 'fox', 'jumps', 'over', 'the', 'lazy', 'dog']\n",
      "\n",
      "Lengths of the Words :\n",
      "[3, 5, 5, 3, 5, 4, 3, 4, 3]\n",
      "\n",
      "List of Lists:\n",
      "['THE', 'the', 3]\n",
      "['QUICK', 'quick', 5]\n",
      "['BROWN', 'brown', 5]\n",
      "['FOX', 'fox', 3]\n",
      "['JUMPS', 'jumps', 5]\n",
      "['OVER', 'over', 4]\n",
      "['THE', 'the', 3]\n",
      "['LAZY', 'lazy', 4]\n",
      "['DOG', 'dog', 3]\n",
      "\n",
      "Words having 4 or more characters:\n",
      "['quick', 'brown', 'jumps', 'over', 'lazy']\n"
     ]
    }
   ],
   "source": [
    "# Listing the 'words'.\n",
    "words = ['The', 'quick', 'brown', 'fox', 'jumps', 'over', 'the', 'lazy', 'dog']\n",
    "\n",
    "# a) Converting each word to uppercase.\n",
    "list_a = [word.upper() for word in words]\n",
    "print(\"Conversion into Uppercase :\")\n",
    "print(list_a, end=\"\\n\\n\")\n",
    "\n",
    "# b) Converting each word to lowercase.\n",
    "list_b = [word.lower() for word in words]\n",
    "print(\"Conversion into Lowercase:\")\n",
    "print(list_b, end=\"\\n\\n\")\n",
    "\n",
    "# c) Finding  the length of each word.\n",
    "list_c = [len(word) for word in words]\n",
    "print(\"Lengths of the Words :\")\n",
    "print(list_c, end=\"\\n\\n\")\n",
    "\n",
    "# d) Creating a list containing a list for every word.\n",
    "list_d = [[word.upper(), word.lower(), len(word)] for word in words]\n",
    "print(\"List of Lists:\")\n",
    "for item in list_d:\n",
    "    print(item)\n",
    "print()\n",
    "\n",
    "# e) Filtering out the words with 4 or more characters.\n",
    "list_e = [word for word in words if len(word) >= 4]\n",
    "print(\"Words having 4 or more characters:\")\n",
    "print(list_e)\n"
   ]
  },
  {
   "cell_type": "markdown",
   "id": "756f7052",
   "metadata": {},
   "source": [
    "---\n",
    "\n",
    "* * *"
   ]
  },
  {
   "cell_type": "code",
   "execution_count": null,
   "id": "5881437a",
   "metadata": {},
   "outputs": [],
   "source": []
  }
 ],
 "metadata": {
  "kernelspec": {
   "display_name": "Python 3 (ipykernel)",
   "language": "python",
   "name": "python3"
  },
  "language_info": {
   "codemirror_mode": {
    "name": "ipython",
    "version": 3
   },
   "file_extension": ".py",
   "mimetype": "text/x-python",
   "name": "python",
   "nbconvert_exporter": "python",
   "pygments_lexer": "ipython3",
   "version": "3.11.4"
  }
 },
 "nbformat": 4,
 "nbformat_minor": 5
}
